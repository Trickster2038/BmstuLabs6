{
 "cells": [
  {
   "cell_type": "code",
   "execution_count": 2,
   "id": "6a9dec95",
   "metadata": {},
   "outputs": [],
   "source": [
    "import matplotlib.pyplot as plt\n",
    "import numpy as np\n",
    "from scipy.signal import chirp, spectrogram\n",
    "from scipy.fft import fft, ifft, fftshift"
   ]
  },
  {
   "cell_type": "code",
   "execution_count": 23,
   "id": "8a731e40",
   "metadata": {},
   "outputs": [
    {
     "data": {
      "image/png": "[encoded data removed]",
      "text/plain": [
       "<Figure size 432x288 with 1 Axes>"
      ]
     },
     "metadata": {
      "needs_background": "light"
     },
     "output_type": "display_data"
    }
   ],
   "source": [
    "A0 = 2\n",
    "A  = 3\n",
    "fmin = 2\n",
    "\n",
    "fmax = 96\n",
    "f0 = 15\n",
    "fd = 100\n",
    "tmin = -2\n",
    "tmax = 2\n",
    "dt = tmax - tmin\n",
    "N = 500\n",
    "\n",
    "def tripuls(t,tau, phi):\n",
    "    x = np.zeros(len(t))\n",
    "    idx = np.where(np.logical_and(t>=-tau/2 + phi, t<=0  + phi))\n",
    "    x[idx] = (t[idx]+tau/2+ phi)/(tau/2+ phi)\n",
    "    idx = np.where(np.logical_and(t<tau/2 + phi, t>0 + phi))\n",
    "    x[idx] = -(t[idx]-tau/2- phi)/(tau/2 + phi)\n",
    "    return x\n",
    "\n",
    "xd = np.linspace(tmin, tmax, N)\n",
    "zd = A * tripuls(xd, 0.1, 1)\n",
    "plt.figure()\n",
    "plt.subplot(211)\n",
    "\n",
    "plt.plot(xd, zd, 'k')\n",
    "plt.show()"
   ]
  },
  {
   "cell_type": "code",
   "execution_count": null,
   "id": "ef8da67e",
   "metadata": {},
   "outputs": [],
   "source": []
  }
 ],
 "metadata": {
  "kernelspec": {
   "display_name": "Python 3 (ipykernel)",
   "language": "python",
   "name": "python3"
  },
  "language_info": {
   "codemirror_mode": {
    "name": "ipython",
    "version": 3
   },
   "file_extension": ".py",
   "mimetype": "text/x-python",
   "name": "python",
   "nbconvert_exporter": "python",
   "pygments_lexer": "ipython3",
   "version": "3.8.10"
  }
 },
 "nbformat": 4,
 "nbformat_minor": 5
}
